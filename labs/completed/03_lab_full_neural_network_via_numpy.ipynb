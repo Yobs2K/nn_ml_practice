{
 "cells": [
  {
   "cell_type": "markdown",
   "id": "5770570e",
   "metadata": {},
   "source": [
    "# Лабораторная работа №3\n",
    "\n",
    "ФИО:  **указать**   \n",
    "Группа: **указать**  \n",
    "\n",
    "Отправлять можно следующими способами (**обязательно указать свое ФИО и группу в каком-либо виде**):\n",
    "1. Создать **приватный** репозиторий на github, добавить меня по нику (l3lush) в Collaborators (Settings -> Collaborators -> Add people)\n",
    "2. Отправить заполненный ноутбук мне на почту avmysh@gmail.com, либо m1603956@edu.misis.ru\n",
    "3. Отправить заполненный ноутбук мне в тг @l3lush. \n",
    "\n",
    "**Deadlines**:\n",
    "- soft -- **16.04.2023 23:59** (за сдачу в пределах этого времени +1 балл в табличку)\n",
    "- hard -- **30.04.2023 23:59**\n",
    "\n",
    "\n",
    "**Что необходимо сделать**:\n",
    "1. Заполнить все ячейки ниже кодом так, чтобы прошли все `assert`ы.\n",
    "2. **Побороть качество моей модели** (в конце ноутбука)\n",
    "\n",
    "\n",
    "**P.S. Используйте части кода с прошлой лабы для forward pass**"
   ]
  },
  {
   "cell_type": "markdown",
   "id": "d1c9b5d0",
   "metadata": {},
   "source": [
    "Сначала импортируем нужные библиотеки  \n",
    "Если чего-то нет локально, можно установить через pip install"
   ]
  },
  {
   "cell_type": "code",
   "execution_count": null,
   "id": "99ca7f8b",
   "metadata": {},
   "outputs": [],
   "source": [
    "import numpy as np\n",
    "import matplotlib.pyplot as plt\n",
    "\n",
    "from IPython.display import clear_output"
   ]
  },
  {
   "cell_type": "markdown",
   "id": "3704002f",
   "metadata": {},
   "source": [
    "# Задача 1. Реализовать слой с функцией активации \"сигмоида\""
   ]
  },
  {
   "cell_type": "markdown",
   "id": "edf0b72b",
   "metadata": {},
   "source": [
    "![](https://upload.wikimedia.org/wikipedia/commons/thumb/8/88/Logistic-curve.svg/1200px-Logistic-curve.svg.png)"
   ]
  },
  {
   "cell_type": "markdown",
   "id": "6cbd5a25",
   "metadata": {},
   "source": [
    "Формула сигмоиды:\n",
    "$$\n",
    "f(x) = \\frac {1}{1 + e^{-x}}\n",
    "$$"
   ]
  },
  {
   "cell_type": "code",
   "execution_count": null,
   "id": "2156cdb3",
   "metadata": {},
   "outputs": [],
   "source": [
    "class SigmoidLayer():\n",
    "    def __init__(self):\n",
    "        \"\"\"\n",
    "        На будущее необходимо сохранить параметры и gradInput \n",
    "        \"\"\"\n",
    "        # TODO: скопируйте с прошлой лабы\n",
    "        pass\n",
    "\n",
    "    def forward(self, X):\n",
    "        \"\"\"\n",
    "        Реализовать forward pass\n",
    "        P.S. не забудьте сохранить X во внутреннюю переменную\n",
    "        \"\"\"\n",
    "        # TODO: скопируйте с прошлой лабы\n",
    "        pass\n",
    "    \n",
    "    def backward(self, dout):\n",
    "        \"\"\"\n",
    "        Реализовать bacward pass\n",
    "        \n",
    "        Необходимо возвращать градиенты в виде:\n",
    "        return self.gradInput, [self.gradW, self.gradB]\n",
    "        \n",
    "        P.S. если нет gradW и/или gradB, то возвращать пустой лист [], \n",
    "        вот так\n",
    "        return self.gradInput, []\n",
    "        \"\"\"\n",
    "        # TODO: write me\n",
    "        pass"
   ]
  },
  {
   "cell_type": "code",
   "execution_count": null,
   "id": "3fa22d18",
   "metadata": {},
   "outputs": [],
   "source": [
    "np.random.seed(17)\n",
    "\n",
    "X = np.random.random(size=(100, 3))\n",
    "sigmoid = SigmoidLayer()\n",
    "output = sigmoid.forward(X)\n",
    "correct_answer = np.array([[0.57313782, 0.62961995, 0.54773438],\n",
    "                           [0.51696857, 0.68718368, 0.65843628],\n",
    "                           [0.65419284, 0.64005501, 0.50976449],\n",
    "                           [0.58851107, 0.7202462 , 0.51500666],\n",
    "                           [0.70350447, 0.70626044, 0.51279562]])\n",
    "assert np.isclose(output[:5], correct_answer).all()\n",
    "assert hasattr(sigmoid, \"params\"), \"Нет параметра params в реализованном классе\"\n",
    "assert hasattr(sigmoid, \"gradInput\"), \"Нет параметра gradInput в реализованном классе\"\n",
    "assert hasattr(sigmoid, \"X\"), \"Не сохранили X в реализованном классе\"\n",
    "\n",
    "\n",
    "dout = np.random.random(size=(100, 3))\n",
    "dInput, _ = sigmoid.backward(dout)\n",
    "correct_dInput = np.array([[0.19460589, 0.20407074, 0.17488009],\n",
    "                           [0.1656316 , 0.10298473, 0.08073351],\n",
    "                           [0.21590141, 0.1403435 , 0.21416212],\n",
    "                           [0.21320927, 0.03610846, 0.05416308],\n",
    "                           [0.00737656, 0.03121984, 0.02882668]])\n",
    "assert np.isclose(dInput[:5], correct_dInput).all()"
   ]
  },
  {
   "cell_type": "markdown",
   "id": "3b1aa776",
   "metadata": {},
   "source": [
    "# Задача 2. Реализовать слой с активацией гиперболического тангенса"
   ]
  },
  {
   "cell_type": "markdown",
   "id": "57c26084",
   "metadata": {},
   "source": [
    "![](https://production-media.paperswithcode.com/methods/Screen_Shot_2020-05-27_at_4.23.22_PM_dcuMBJl.png)"
   ]
  },
  {
   "cell_type": "code",
   "execution_count": null,
   "id": "920cf0fd",
   "metadata": {},
   "outputs": [],
   "source": [
    "class TanhLayer():\n",
    "    def __init__(self):\n",
    "        \"\"\"\n",
    "        На будущее необходимо сохранить параметры и gradInput \n",
    "        \"\"\"\n",
    "        # TODO: скопируйте с прошлой лабы\n",
    "        pass\n",
    "\n",
    "    def forward(self, X):\n",
    "        \"\"\"\n",
    "        Реализовать forward pass\n",
    "        P.S. не забудьте сохранить X во внутреннюю переменную\n",
    "        \"\"\"\n",
    "        # TODO: скопируйте с прошлой лабы\n",
    "        pass\n",
    "    \n",
    "    def backward(self, dout):\n",
    "        \"\"\"\n",
    "        Реализовать bacward pass\n",
    "        \n",
    "        Необходимо возвращать градиенты в виде:\n",
    "        return self.gradInput, [self.gradW, self.gradB]\n",
    "        \n",
    "        P.S. если нет gradW и/или gradB, то возвращать пустой лист [], \n",
    "        вот так\n",
    "        return self.gradInput, []\n",
    "        \"\"\"\n",
    "        # TODO: write me\n",
    "        pass"
   ]
  },
  {
   "cell_type": "code",
   "execution_count": null,
   "id": "4088016c",
   "metadata": {},
   "outputs": [],
   "source": [
    "np.random.seed(17)\n",
    "\n",
    "X = np.random.random(size=(100, 3))\n",
    "tanh = TanhLayer()\n",
    "output = tanh.forward(X)\n",
    "correct_answer = np.array([[0.28642281, 0.48582948, 0.18921297],\n",
    "                           [0.0677962 , 0.65669792, 0.57591821],\n",
    "                           [0.5632092 , 0.51946218, 0.03904306],\n",
    "                           [0.34328675, 0.73782249, 0.05997262],\n",
    "                           [0.69833441, 0.70505935, 0.05114899]])\n",
    "assert np.isclose(output[:5], correct_answer).all()\n",
    "assert hasattr(tanh, \"params\"), \"Нет параметра params в реализованном классе\"\n",
    "assert hasattr(tanh, \"gradInput\"), \"Нет параметра gradInput в реализованном классе\"\n",
    "assert hasattr(tanh, \"X\"), \"Не сохранили X в реализованном классе\"\n",
    "\n",
    "\n",
    "dout = np.random.random(size=(100, 3))\n",
    "dInput, _ = tanh.backward(dout)\n",
    "correct_dInput = np.array([[0.7301867 , 0.66854527, 0.68068037],\n",
    "                           [0.66024164, 0.27247731, 0.23991181],\n",
    "                           [0.65163784, 0.44479135, 0.85566899],\n",
    "                           [0.77667226, 0.08164937, 0.21606773],\n",
    "                           [0.01811832, 0.07567937, 0.11508041]])\n",
    "assert np.isclose(dInput[:5], correct_dInput).all()"
   ]
  },
  {
   "cell_type": "markdown",
   "id": "be2b44f7",
   "metadata": {},
   "source": [
    "# Задача 3. Реализовать функцию потерь MSE"
   ]
  },
  {
   "cell_type": "markdown",
   "id": "2d15d7c2",
   "metadata": {},
   "source": [
    "В качестве интерактива-микрозадания, поищите формулу MSE в гугле 😊"
   ]
  },
  {
   "cell_type": "code",
   "execution_count": null,
   "id": "919014f4",
   "metadata": {},
   "outputs": [],
   "source": [
    "class MSELoss():\n",
    "    def forward(self, y_true, y_pred):\n",
    "        \"\"\"\n",
    "        Реализовать forward pass\n",
    "        \"\"\"\n",
    "        # TODO: скопируйте с прошлой лабы\n",
    "        pass\n",
    "    \n",
    "    def backward(self, y_true, y_pred):\n",
    "        # TODO: write me\n",
    "        pass"
   ]
  },
  {
   "cell_type": "code",
   "execution_count": null,
   "id": "f14b8a55",
   "metadata": {},
   "outputs": [],
   "source": [
    "np.random.seed(17)\n",
    "\n",
    "y_true = np.random.randint(0, 1000, size=(100))\n",
    "y_pred = np.random.randint(0, 1000, size=(100))\n",
    "mse = MSELoss()\n",
    "output = mse.forward(y_true, y_pred)\n",
    "correct_answer = 157953.51\n",
    "assert round(output) == round(correct_answer)\n",
    "\n",
    "dout = mse.backward(y_true, y_pred)\n",
    "right_dout = np.array([3.56, 1.24, 10.2, 7.68, 3.02, 9.04, -12.84, -2.16, 3.04, 0.24])\n",
    "assert np.isclose(dout[:10], right_dout).all()\n",
    "assert round(dout.sum(), 3) == 19.26"
   ]
  },
  {
   "cell_type": "markdown",
   "id": "237d40c5",
   "metadata": {},
   "source": [
    "# Задача 4. Реализовать каркас нейросети"
   ]
  },
  {
   "cell_type": "code",
   "execution_count": null,
   "id": "db70586b",
   "metadata": {},
   "outputs": [],
   "source": [
    "class LinearLayer:\n",
    "    \"\"\"\n",
    "    Линейный слой с семинаров, ничего менять не надо\n",
    "    \"\"\"\n",
    "    def __init__(self, in_size, out_size):\n",
    "        self.W = np.random.randn(in_size, out_size)\n",
    "        self.params = [self.W]\n",
    "        self.gradW = None\n",
    "        self.gradInput = None\n",
    "        \n",
    "    def forward(self, X):\n",
    "        self.X = X.copy()\n",
    "        output = X.dot(self.W)\n",
    "        return output\n",
    "    \n",
    "    def backward(self, dout):\n",
    "        self.gradW = self.X.T.dot(dout)\n",
    "        self.gradInput = dout.dot(self.W.T)\n",
    "        return self.gradInput, [self.gradW]\n",
    "\n",
    "\n",
    "class NN:\n",
    "    def __init__(self, loss_func):\n",
    "        \"\"\"\n",
    "        Необходимо, чтобы нейросеть знала все о своей конфигурации.\n",
    "        1. Создайте внутренние переменные layers, params и grads как пустые листы.\n",
    "        2. Во внутреннюю переменную loss_func положите значение полученной переменной loss_func.\n",
    "        \"\"\"\n",
    "        # TODO: скопируйте с прошлой лабы\n",
    "        pass\n",
    "\n",
    "    def add_layer(self, layer):\n",
    "        \"\"\"\n",
    "        Функция добавления слоев в нейросеть.\n",
    "        Необходимо, чтобы обновлялись (расширялись) внутренние переменные,\n",
    "        ответственные за слои и параметры этих самых слоев, которые мы инициализировали\n",
    "        в __init__ методе.\n",
    "        \"\"\"\n",
    "        # TODO: скопируйте с прошлой лабы\n",
    "        pass\n",
    "\n",
    "    def forward(self, X):\n",
    "        \"\"\"\n",
    "        Реализовать forward pass для всей нейросети.\n",
    "        Т.е. реализовать forward pass по каждому слою, и в конце выдать результат \n",
    "        \"\"\"\n",
    "        # TODO: скопируйте с прошлой лабы\n",
    "        pass\n",
    "    \n",
    "    def backward(self, dout):\n",
    "        \"\"\"\n",
    "        Реализовать backward pass для всей нейросети.\n",
    "        Т.е. реализовать backward pass по каждому слою в обратном порядке\n",
    "        Каждый слой возвращает dout (проталкиваем градиент далее) \n",
    "        и grad (градиенты параметров для их обновления)\n",
    "        Все полученные градиенты параметров необходимо добавить во внутреннюю \n",
    "        переменную self.grads\n",
    "        В конце необходимо вернуть self.grads\n",
    "        В начале необходимо обнулять градиенты\n",
    "        \"\"\"\n",
    "        self.clear_grad_param()\n",
    "        # TODO: write me\n",
    "        return self.grads\n",
    "\n",
    "    def train_step(self, X, y):\n",
    "        \"\"\"\n",
    "        Функция для проведения одного шага тренировки модели\n",
    "        \n",
    "        Что необходимо сделать:\n",
    "        1. Пропустить полученные данные через сеть\n",
    "        2. Получить значение loss функции\n",
    "        3. Получить градиенты loss функции\n",
    "        4. Полученные от loss функции градиенты запустить в сеть назад\n",
    "        \n",
    "        Возвращаем значение лосс функции из пункта 2 и градиенты из пункта 4.\n",
    "        \"\"\"\n",
    "        # TODO: write me\n",
    "        return loss, grads\n",
    "\n",
    "    def predict(self, X):\n",
    "        \"\"\"\n",
    "        Функция для предсказания при заданных Х.\n",
    "        По большому счету, необходимо просто прогнать forward pass\n",
    "        и вернуть полученные значения.\n",
    "        \"\"\"\n",
    "        # TODO: write me\n",
    "        pass\n",
    "    \n",
    "    def dispGradParam():\n",
    "        \"\"\"\n",
    "        Функция для принта градиентов, уже готовая\n",
    "        \"\"\"\n",
    "        print(self.grads)\n",
    "    \n",
    "    def clear_grad_param(self):\n",
    "        \"\"\"\n",
    "        Функция для очищения градиентов, уже готовая\n",
    "        \"\"\"\n",
    "        self.grads = []\n",
    "    \n",
    "    \n",
    "nn = NN(MSELoss())\n",
    "\n",
    "assert hasattr(nn, \"layers\")\n",
    "assert hasattr(nn, \"params\")\n",
    "assert hasattr(nn, \"grads\")\n",
    "assert hasattr(nn, \"loss_func\")\n",
    "assert isinstance(nn.loss_func, MSELoss)"
   ]
  },
  {
   "cell_type": "code",
   "execution_count": null,
   "id": "f21c8a0f",
   "metadata": {},
   "outputs": [],
   "source": [
    "np.random.seed(17)\n",
    "\n",
    "X = np.random.random(size=(100, 3))\n",
    "nn = NN(MSELoss())\n",
    "\n",
    "linear1 = LinearLayer(3, 5)\n",
    "nn.add_layer(linear1)\n",
    "\n",
    "sigmoid1 = SigmoidLayer()\n",
    "nn.add_layer(sigmoid1)\n",
    "\n",
    "linear2 = LinearLayer(5, 1)\n",
    "nn.add_layer(linear2)\n",
    "\n",
    "sigmoid2 = SigmoidLayer()\n",
    "nn.add_layer(sigmoid2)\n",
    "\n",
    "output_nn = nn.forward(X)\n",
    "\n",
    "assert round(output_nn.sum()) == 65\n",
    "\n",
    "\n",
    "y = np.random.randint(0, 2, size=100).reshape(-1, 1)\n",
    "\n",
    "nn_predict = nn.predict(X)\n",
    "assert (output_nn == nn.predict(X)).all()\n",
    "\n",
    "loss, grads = nn.train_step(X, y)\n",
    "right_loss = np.array([0.24705916])\n",
    "\n",
    "assert np.isclose(loss, right_loss)\n",
    "assert grads[0] == []\n",
    "assert round(grads[1][0].sum(), 4) == 0.0394\n",
    "assert grads[2] == []\n",
    "assert round(grads[3][0].sum(), 4) == 0.0077"
   ]
  },
  {
   "cell_type": "markdown",
   "id": "fb0f7edb",
   "metadata": {},
   "source": [
    "# Задача 4.1. Реализовать нарезку датасета на минибатчи"
   ]
  },
  {
   "cell_type": "markdown",
   "id": "49e3692c",
   "metadata": {},
   "source": [
    "Минибатч -- это кусочек данных определенного размера, который мы можем варьировать сами  \n",
    "Например, если в датасете 1000 записей, а мы хотим поставить размер батча в 50 наблюдений, то мы получим 20 батчей с 50 наблюдениями в каждом"
   ]
  },
  {
   "cell_type": "code",
   "execution_count": null,
   "id": "5a803c64",
   "metadata": {},
   "outputs": [],
   "source": [
    "def minibatch(X, y, minibatch_size):\n",
    "    \"\"\"\n",
    "    Функция для нарезания X и у на куски размером minibatch_size.\n",
    "    Возвращает данные в виде: [(X_batch1, y_batch1), \n",
    "                               (X_batch2, y_batch2), \n",
    "                               ...]\n",
    "    \"\"\"\n",
    "    # TODO: write me\n",
    "    pass"
   ]
  },
  {
   "cell_type": "code",
   "execution_count": null,
   "id": "29d0e2dc",
   "metadata": {},
   "outputs": [],
   "source": [
    "np.random.seed(17)\n",
    "\n",
    "BATCH_SIZE = 33\n",
    "X = np.random.random(size=(100, 3))\n",
    "y = np.random.randint(0, 2, size=100).reshape(-1, 1)\n",
    "\n",
    "minibatches = minibatch(X, y, BATCH_SIZE)\n",
    "X_batch0, y_batch0 = minibatches[0]\n",
    "correct_y_batch0 = np.array([[0], [0], [0], [1], [1]])\n",
    "assert len(minibatches) == 4\n",
    "assert round(X_batch0.sum(), 3) == 50.216\n",
    "assert (y_batch0[:5] == correct_y_batch0).all()"
   ]
  },
  {
   "cell_type": "code",
   "execution_count": null,
   "id": "4f86a514",
   "metadata": {},
   "outputs": [],
   "source": [
    "def update(velocity, params, grads, learning_rate=0.001, mu=0.9):\n",
    "    \"\"\"\n",
    "    Обратите внимание на эту функцию\n",
    "    Здесь происходит чуть хитрое обновление весов\n",
    "    На семинаре поговорим об этом\n",
    "    \"\"\"\n",
    "    for v, p, g, in zip(velocity, params, reversed(grads)):\n",
    "        for i in range(len(g)):\n",
    "            v[i] = mu * v[i] + learning_rate * g[i]\n",
    "            p[i] -= v[i]\n",
    "            \n",
    "\n",
    "def plot_train_process(train_acc_list, val_acc_list, \n",
    "                       mean_train_loss_list, mean_val_loss_list):\n",
    "    fig, axes = plt.subplots(1, 2, figsize=(15, 5))\n",
    "\n",
    "    axes[0].set_title('Mean absolute error')\n",
    "    axes[1].set_title('Loss')\n",
    "    \n",
    "    axes[0].plot(train_acc_list, label='train')\n",
    "    axes[0].plot(val_acc_list, label='test')\n",
    "    axes[0].legend()\n",
    "    \n",
    "    axes[1].plot(mean_train_loss_list, label='train')\n",
    "    axes[1].plot(mean_val_loss_list, label='test')\n",
    "    axes[1].legend()\n",
    "    \n",
    "    plt.show()\n",
    "    \n",
    "    \n",
    "def check_accuracy(y_true, y_pred):\n",
    "    return np.mean(abs(y_true - y_pred))\n",
    "\n",
    "\n",
    "def train(net, X_train, y_train, minibatch_size, epoch, learning_rate, mu=0.9,\n",
    "                 verbose=True, X_val=None, y_val=None, nesterov=True, draw_each_iters=5):\n",
    "    val_loss_epoch = []\n",
    "    minibatches = minibatch(X_train, y_train, minibatch_size)\n",
    "    minibatches_val = minibatch(X_val, y_val, minibatch_size)\n",
    "\n",
    "    c = 0 \n",
    "\n",
    "    mean_train_loss_list = []\n",
    "    mean_val_loss_list = []\n",
    "    train_acc_list = []\n",
    "    val_acc_list = []\n",
    "    for n_iter in range(epoch):\n",
    "        loss_batch = []\n",
    "        val_loss_batch = []\n",
    "        velocity = []\n",
    "        for param_layer in net.params:\n",
    "            p = [np.zeros_like(param) for param in list(param_layer)]\n",
    "            velocity.append(p)\n",
    "\n",
    "        # iterate over mini batches\n",
    "        for X_mini, y_mini in minibatches:\n",
    "\n",
    "            loss, grads = net.train_step(X_mini, y_mini)\n",
    "            loss_batch.append(loss)\n",
    "            update(velocity, net.params, grads,\n",
    "                   learning_rate=learning_rate, mu=mu)\n",
    "\n",
    "        for X_mini_val, y_mini_val in minibatches_val:\n",
    "            val_loss, _ = net.train_step(X_mini, y_mini)\n",
    "            val_loss_batch.append(val_loss)\n",
    "\n",
    "\n",
    "        # accuracy of model at end of epoch after all mini batch updates   \n",
    "\n",
    "        if verbose:\n",
    "            m_train = X_train.shape[0]\n",
    "            m_val = X_val.shape[0]\n",
    "            y_train_pred = np.array([], dtype=\"int64\")\n",
    "            y_val_pred = np.array([], dtype=\"int64\")\n",
    "\n",
    "            for i in range(0, m_train, minibatch_size):\n",
    "                X_tr = X_train[i:i + minibatch_size, : ]\n",
    "                y_tr = y_train[i:i + minibatch_size, ]\n",
    "                y_train_pred = np.append(y_train_pred, net.predict(X_tr))\n",
    "\n",
    "            for i in range(0, m_val, minibatch_size):\n",
    "                X_va = X_val[i:i + minibatch_size, : ]\n",
    "                y_va = y_val[i:i + minibatch_size, ]\n",
    "                y_val_pred = np.append(y_val_pred, net.predict(X_va))\n",
    "        \n",
    "            train_acc = check_accuracy(y_train, y_train_pred)\n",
    "            val_acc = check_accuracy(y_val, y_val_pred)\n",
    "            mean_train_loss = sum(loss_batch) / float(len(loss_batch))\n",
    "            mean_val_loss = sum(val_loss_batch) / float(len(val_loss_batch))\n",
    "            \n",
    "            train_acc_list.append(train_acc)\n",
    "            val_acc_list.append(val_acc)\n",
    "            \n",
    "            mean_train_loss_list.append(mean_train_loss)\n",
    "            mean_val_loss_list.append(mean_val_loss)\n",
    "\n",
    "            # early stopping with patience = 5 on val loss\n",
    "            if len(val_loss_epoch) == 0:\n",
    "                val_loss_epoch.append(mean_val_loss)\n",
    "            else:\n",
    "                for j in val_loss_epoch[-5:]:\n",
    "                    if mean_val_loss > j:\n",
    "                        c += 1\n",
    "                    else:\n",
    "                        c = 0\n",
    "                if c > 5:\n",
    "                    print('Early stopping')\n",
    "                    return net\n",
    "                else:\n",
    "                    c = 0\n",
    "                    val_loss_epoch.append(mean_val_loss)  \n",
    "                    \n",
    "            if n_iter % draw_each_iters == 0:\n",
    "                clear_output(True)\n",
    "                plot_train_process(train_acc_list, val_acc_list, \n",
    "                                   mean_train_loss_list, mean_val_loss_list)\n",
    "    return net"
   ]
  },
  {
   "cell_type": "markdown",
   "id": "8f3e827d",
   "metadata": {},
   "source": [
    "# Пробуем обучить нейросеть на игрушечных данных"
   ]
  },
  {
   "cell_type": "code",
   "execution_count": null,
   "id": "7e8d0e44",
   "metadata": {},
   "outputs": [],
   "source": [
    "# Get preprocessed training and validation data\n",
    "\n",
    "X_train = np.arange(1000).reshape(250, 4) / 1e4\n",
    "y_train = X_train.sum(axis=1).reshape(-1, 1)\n",
    "\n",
    "X_test = np.arange(1000, 2000).reshape(250, 4) / 1e4\n",
    "y_test = X_val.sum(axis=1).reshape(-1, 1) \n",
    "\n",
    "print(\"X train:\")\n",
    "print(X_train[:5])\n",
    "print(\"y train:\")\n",
    "print(y_train[:5])\n",
    "print()\n",
    "print(\"X test:\")\n",
    "print(X_test[:5])\n",
    "print(\"y test:\")\n",
    "print(y_test[:5])"
   ]
  },
  {
   "cell_type": "markdown",
   "id": "03661811",
   "metadata": {},
   "source": [
    "Для наглядности визуализируем обучающую и тестовую выборки"
   ]
  },
  {
   "cell_type": "code",
   "execution_count": null,
   "id": "d5901688",
   "metadata": {},
   "outputs": [],
   "source": [
    "plot_each = 15\n",
    "\n",
    "plt.scatter(X_train[::plot_each, 0], y_train[::plot_each], label='train')\n",
    "plt.scatter(X_test[::plot_each, 0], y_test[::plot_each], label='test')\n",
    "plt.legend();"
   ]
  },
  {
   "cell_type": "code",
   "execution_count": null,
   "id": "c601f0a4",
   "metadata": {},
   "outputs": [],
   "source": [
    "# define neural net\n",
    "model = NN(MSELoss())\n",
    "\n",
    "# add some layers\n",
    "model.add_layer(LinearLayer(4, 1))\n",
    "\n",
    "model = train(model, X_train, y_train, minibatch_size=10, epoch=100,\n",
    "           learning_rate=0.01, X_val=X_val, y_val=y_val, verbose=True)"
   ]
  },
  {
   "cell_type": "markdown",
   "id": "e6cd30fd",
   "metadata": {},
   "source": [
    "Если все получилось (лосс падает, ошибка падает), то микро-ура  \n",
    "Теперь самое время начать работать с реальными данными"
   ]
  },
  {
   "cell_type": "markdown",
   "id": "61908db6",
   "metadata": {},
   "source": [
    "# Задача 5. Обучить нейросеть на реальных данных"
   ]
  },
  {
   "cell_type": "code",
   "execution_count": null,
   "id": "0b282565",
   "metadata": {},
   "outputs": [],
   "source": [
    "import pandas as pd\n",
    "\n",
    "\n",
    "DATA_URL = \"https://raw.githubusercontent.com/stedy/Machine-Learning-with-R-datasets/master/insurance.csv\"\n",
    "data = pd.read_csv(DATA_URL)"
   ]
  },
  {
   "cell_type": "markdown",
   "id": "25ac9eaf",
   "metadata": {},
   "source": [
    "Постановки задачи следующая -- необходимо предсказать размер страховки для человека на основании собранных данных:\n",
    "- возраст (age)\n",
    "- пол (sex)\n",
    "- индекс массы тела (bmi)\n",
    "- количество детей (children)\n",
    "- курильщик или нет (smoker)\n",
    "- регион человека (region)  \n",
    "----\n",
    "Целевая переменная представлена в столбце `charges`"
   ]
  },
  {
   "cell_type": "markdown",
   "id": "cb5d8799",
   "metadata": {},
   "source": [
    "Смотрим на данные глазами"
   ]
  },
  {
   "cell_type": "code",
   "execution_count": null,
   "id": "f0799b72",
   "metadata": {},
   "outputs": [],
   "source": [
    "data.head()"
   ]
  },
  {
   "cell_type": "markdown",
   "id": "8d918cb9",
   "metadata": {},
   "source": [
    "Закодируем категориальные признаки через One Hot Encoding  \n",
    "![](https://i.imgur.com/mtimFxh.png)  \n",
    "Из каждого уникального значения категориального признака создается новый столбец с его значением  \n",
    "Например, для признака `sex` есть два уникальных значения `{\"female\", \"male\"}`  \n",
    "Мы создадим два новых столбца с названиями `sex_female` и `sex_male`, где будут представлены только 0 или 1, в зависимости от того, какого пола человек в выборке  \n",
    "В библиотеке pandas это можно сделать через метод `pd.get_dummies()`"
   ]
  },
  {
   "cell_type": "code",
   "execution_count": null,
   "id": "c714d4b9",
   "metadata": {},
   "outputs": [],
   "source": [
    "cat_columns = ['sex', 'smoker', 'region']\n",
    "dummy_data = pd.get_dummies(data[cat_columns])\n",
    "data.drop(cat_columns, axis=1, inplace=True)\n",
    "data = pd.concat([data, dummy_data], axis=1)"
   ]
  },
  {
   "cell_type": "code",
   "execution_count": null,
   "id": "5bc5b387",
   "metadata": {},
   "outputs": [],
   "source": [
    "data.head()"
   ]
  },
  {
   "cell_type": "markdown",
   "id": "dfefd2e7",
   "metadata": {},
   "source": [
    "Посмотрим на распределение целевой переменной"
   ]
  },
  {
   "cell_type": "code",
   "execution_count": null,
   "id": "c02312a5",
   "metadata": {},
   "outputs": [],
   "source": [
    "data['charges'].hist();"
   ]
  },
  {
   "cell_type": "markdown",
   "id": "c02afa07",
   "metadata": {},
   "source": [
    "Есть очень большие значения целевой переменной, которые будут вызывать большой градиент  \n",
    "Поэтому давайте будем предсказывать не прямое значение, а логарифм"
   ]
  },
  {
   "cell_type": "code",
   "execution_count": null,
   "id": "eac94d68",
   "metadata": {},
   "outputs": [],
   "source": [
    "data['charges_log'] = np.log(data['charges'])"
   ]
  },
  {
   "cell_type": "code",
   "execution_count": null,
   "id": "a12ad227",
   "metadata": {},
   "outputs": [],
   "source": [
    "data['charges_log'].hist();"
   ]
  },
  {
   "cell_type": "markdown",
   "id": "5490a6bf",
   "metadata": {},
   "source": [
    "Удалим целевую переременную в сыром виде"
   ]
  },
  {
   "cell_type": "code",
   "execution_count": null,
   "id": "0902ee08",
   "metadata": {},
   "outputs": [],
   "source": [
    "data.drop(['charges'], axis=1, inplace=True)"
   ]
  },
  {
   "cell_type": "markdown",
   "id": "c7555ddf",
   "metadata": {},
   "source": [
    "Нейросети плохо работают с числовыми признаками в сыром виде, поэтому хорошо будет их отшаклировать тоже"
   ]
  },
  {
   "cell_type": "code",
   "execution_count": null,
   "id": "d2f4c2b0",
   "metadata": {},
   "outputs": [],
   "source": [
    "def standart_scale_feature(feature_array):\n",
    "    mean = np.mean(feature_array)\n",
    "    std = np.std(feature_array)\n",
    "    output = (feature_array - mean) / std\n",
    "    return output"
   ]
  },
  {
   "cell_type": "code",
   "execution_count": null,
   "id": "822055b0",
   "metadata": {},
   "outputs": [],
   "source": [
    "num_features = [\"age\", \"bmi\", \"children\"]\n",
    "for feature in num_features:\n",
    "    data[feature] = standart_scale_feature(data[feature])"
   ]
  },
  {
   "cell_type": "code",
   "execution_count": null,
   "id": "fbfeee2a",
   "metadata": {},
   "outputs": [],
   "source": [
    "data.head()"
   ]
  },
  {
   "cell_type": "markdown",
   "id": "297ed381",
   "metadata": {},
   "source": [
    "Теперь формируем обучающую и тестовую выборки"
   ]
  },
  {
   "cell_type": "code",
   "execution_count": null,
   "id": "da9b36e1",
   "metadata": {},
   "outputs": [],
   "source": [
    "y_name = 'charges_log'\n",
    "X = data.drop([y_name], axis=1).to_numpy()\n",
    "y = data[y_name].to_numpy().reshape(-1, 1)"
   ]
  },
  {
   "cell_type": "code",
   "execution_count": null,
   "id": "236fba14",
   "metadata": {},
   "outputs": [],
   "source": [
    "print(\"X:\")\n",
    "print(X[:5])\n",
    "print(\"y:\")\n",
    "print(y[:5])"
   ]
  },
  {
   "cell_type": "code",
   "execution_count": null,
   "id": "2bf34a0d",
   "metadata": {},
   "outputs": [],
   "source": [
    "print(X.shape)"
   ]
  },
  {
   "cell_type": "markdown",
   "id": "7bdeadb2",
   "metadata": {},
   "source": [
    "Возьмем первые 1000 наблюдений для обучения модели, а оставшиеся для теста"
   ]
  },
  {
   "cell_type": "code",
   "execution_count": null,
   "id": "40c48b73",
   "metadata": {},
   "outputs": [],
   "source": [
    "split_idx = 1000\n",
    "X_train = X[:split_idx]\n",
    "y_train = y[:split_idx]\n",
    "X_test = X[split_idx:]\n",
    "y_test = y[split_idx:]"
   ]
  },
  {
   "cell_type": "markdown",
   "id": "8d1e8155",
   "metadata": {},
   "source": [
    "Теперь ваша задача натренировать нейросеть так, чтобы она научилась предсказывать размер страховки для конкретного человека"
   ]
  },
  {
   "cell_type": "code",
   "execution_count": null,
   "id": "0f9d7189",
   "metadata": {},
   "outputs": [],
   "source": [
    "X_train.shape"
   ]
  },
  {
   "cell_type": "code",
   "execution_count": null,
   "id": "3f6d4545",
   "metadata": {},
   "outputs": [],
   "source": [
    "LEARNING_RATE = 1e-3  # с этим параметром придется поиграться\n",
    "N_EPOCHS = 10  # c этим тоже\n",
    "\n",
    "# инициализируем нейросеть\n",
    "model = NN(MSELoss())\n",
    "\n",
    "# TODO: добавьте слои в сеть\n",
    "\n",
    "model = train(model, X_train, y_train, minibatch_size=128, epoch=N_EPOCHS,\n",
    "           learning_rate=LEARNING_RATE, X_val=X_test, y_val=y_test, verbose=True)"
   ]
  },
  {
   "cell_type": "markdown",
   "id": "dc5c0ec4",
   "metadata": {},
   "source": [
    "Оценим работу модели"
   ]
  },
  {
   "cell_type": "code",
   "execution_count": null,
   "id": "88bd3539",
   "metadata": {},
   "outputs": [],
   "source": [
    "y_train_pred = model.predict(X_train)\n",
    "mean_error_train = np.mean(abs(y_train - y_train_pred))\n",
    "print(f\"Средняя абсолютная ошибка на трейне: {mean_error_train:.3f}\")\n",
    "\n",
    "y_test_pred = model.predict(X_test)\n",
    "mean_error_test = np.mean(abs(y_test - y_test_pred))\n",
    "print(f\"Средняя абсолютная ошибка на тесте: {mean_error_test:.3f}\")"
   ]
  },
  {
   "cell_type": "markdown",
   "id": "9e9dbc89",
   "metadata": {},
   "source": [
    "У меня получилась средняя ошибка на трейне **0.766**, на тесте **0.835**  \n",
    "**Эти значения надо побить** (ваши значения должны быть меньше моих)"
   ]
  },
  {
   "cell_type": "markdown",
   "id": "c6e934a5",
   "metadata": {},
   "source": [
    "Выше мы оценивали логарифмы, давайте оценим истинные значения"
   ]
  },
  {
   "cell_type": "code",
   "execution_count": null,
   "id": "de9f71c6",
   "metadata": {},
   "outputs": [],
   "source": [
    "y_train_pred = model.predict(X_train)\n",
    "y_train_pred_true_values = np.exp(y_train_pred)\n",
    "y_train_true_values = np.exp(y_train)\n",
    "mean_error_train = np.mean(abs(y_train_true_values - y_train_pred_true_values))\n",
    "print(f\"Средняя ошибка на трейне: {mean_error_train:.2f}\")\n",
    "\n",
    "y_test_pred = model.predict(X_test)\n",
    "y_test_pred_true_values = np.exp(y_test_pred)\n",
    "y_test_true_values = np.exp(y_test)\n",
    "mean_error_test = np.mean(abs(y_test_true_values - y_test_pred_true_values))\n",
    "print(f\"Средняя ошибка на тесте: {mean_error_test:.2f}\")"
   ]
  },
  {
   "cell_type": "markdown",
   "id": "fe1117c4",
   "metadata": {},
   "source": [
    "У меня получилась средняя ошибка на трейне **8090.09**, на тесте **9007.43**  \n",
    "**Эти значения тоже надо побить** (ваши значения должны быть меньше моих)"
   ]
  },
  {
   "cell_type": "markdown",
   "id": "3cc0cc42",
   "metadata": {},
   "source": [
    "Оценим среднюю абсолютную процентную ошибку (метрика называется MAPE)"
   ]
  },
  {
   "cell_type": "code",
   "execution_count": null,
   "id": "79e468d6",
   "metadata": {},
   "outputs": [],
   "source": [
    "def mape_count(y_true, y_pred):\n",
    "    return np.mean((abs(y_true - y_pred) / y_true) * 100)"
   ]
  },
  {
   "cell_type": "code",
   "execution_count": null,
   "id": "cf2a3b70",
   "metadata": {},
   "outputs": [],
   "source": [
    "mape_train = mape_count(y_train_true_values, y_train_pred_true_values)\n",
    "mape_test = mape_count(y_test_true_values, y_test_pred_true_values)\n",
    "print(f\"MAPE train: {mape_train:.2f}%\")\n",
    "print(f\"MAPE test: {mape_test:.2f}%\")"
   ]
  },
  {
   "cell_type": "markdown",
   "id": "eef147a1",
   "metadata": {},
   "source": [
    "У меня получилось MAPE на трейне **95.11%**, на тесте **89.10%**  \n",
    "**Эти значения надо побить** (ваши значения должны быть меньше моих)"
   ]
  },
  {
   "cell_type": "markdown",
   "id": "4ee0d2de",
   "metadata": {},
   "source": [
    "## Если все получилось, то я вас поздравляю :)"
   ]
  },
  {
   "cell_type": "markdown",
   "id": "03456702",
   "metadata": {},
   "source": [
    "![](http://sun9-16.userapi.com/impf/c840737/v840737590/55ded/Ns6wztlxubY.jpg?size=604x466&quality=96&sign=e4647d7e87db4c211d138163f60ea33b&type=album)  \n",
    "плюс за то, что завершил(а) эту лабу"
   ]
  },
  {
   "cell_type": "markdown",
   "id": "c53de20a",
   "metadata": {},
   "source": [
    "P.S. ниже есть _необязательная_ задача для жаждущих еще поупражняться"
   ]
  },
  {
   "cell_type": "markdown",
   "id": "a3f54983",
   "metadata": {},
   "source": [
    "# Задача 6\\*. Попробуйте сделать настоящий линейный слой\n",
    "То есть добавить еще и вектор смещений B, и написать соответствующий функционал в `forward` и `backward` методах  \n",
    "Далее собрать из нейросеть при помощи полноценных линейных слоев и посмотреть, улучшится ли качество при таком подходе"
   ]
  }
 ],
 "metadata": {
  "kernelspec": {
   "display_name": "Python 3 (ipykernel)",
   "language": "python",
   "name": "python3"
  },
  "language_info": {
   "codemirror_mode": {
    "name": "ipython",
    "version": 3
   },
   "file_extension": ".py",
   "mimetype": "text/x-python",
   "name": "python",
   "nbconvert_exporter": "python",
   "pygments_lexer": "ipython3",
   "version": "3.9.13"
  }
 },
 "nbformat": 4,
 "nbformat_minor": 5
}

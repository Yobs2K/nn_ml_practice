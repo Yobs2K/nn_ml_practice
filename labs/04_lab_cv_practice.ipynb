{
  "cells": [
    {
      "cell_type": "markdown",
      "id": "5dfc8bae",
      "metadata": {
        "id": "5dfc8bae"
      },
      "source": [
        "# Лабораторная работа №4\n",
        "\n",
        "ФИО:  **Йолсал Дениз Хайреттинович**   \n",
        "Группа: **БИВТ-20-3**  \n",
        "Вариант: **jbarat/plant_species**\n",
        "\n",
        "Отправлять можно следующими способами (**обязательно указать свое ФИО и группу в каком-либо виде**):\n",
        "1. Создать **приватный** репозиторий на github, добавить меня по нику (l3lush) в Collaborators (Settings -> Collaborators -> Add people)\n",
        "2. Отправить заполненный ноутбук мне на почту avmysh@gmail.com, либо m1603956@edu.misis.ru\n",
        "3. Отправить заполненный ноутбук мне в тг @l3lush. \n",
        "\n",
        "**Deadline**:\n",
        "- hard -- **04.06.2023 23:59** (дедлайн теперь один)\n",
        "\n",
        "\n",
        "**Что необходимо сделать** (можете вдохновляться ноутбуками для семинара, они должны помочь):\n",
        "1. Загрузить датасет (вариант смотреть [здесь](https://docs.google.com/spreadsheets/d/1pFk1qZJtMrV8GWUmdSjV5Kz6JnFdBQDShErFZ337FDc/edit?usp=sharing))\n",
        "2. Описать кратенько словами датасет, описать поставку задачи, что от чего отличаем, привести примеры картинок (картинки можно визуализировать после шага 3, когда у вас будет красивый датасет).\n",
        "3. Оформить датасет в виде объекта класса Dataset из PyTorch (обязательно надо сделать препроцессинг данных: нормализовать данные, добавить аугментации к данным и пр.).\n",
        "4. Оформить датасет из шага 3 в Dataloader.\n",
        "5. Реализовать архитектуру собственной нейросети и натренировать ее на датасете (можно не обучать 1000 эпох, достаточно 10 эпох, но чтобы метрики начали улучшаться).\n",
        "6. Обучить нейросеть, используя Transfer Learning. Модель можно выбрать на свой вкус (список всех моделей, доступных в torchvision есть [тут](https://pytorch.org/vision/stable/models.html)).\n",
        "7. Посчитать метрики качества финальной модели, сделать выводы.\n",
        "\n",
        "**Замечание**  \n",
        "Если понимаете, что данные слишком много весят, или с датасетом что-то не так, можете брать любой другой.  \n",
        "\n",
        "P.S. Чтобы не ждать века, тренируйте модели на Colab с использованием GPU (Runtime -> Change runtime type -> GPU)  \n",
        "P.S.S. Сохраняйте вывод ячеек и пушьте вместе с ним, в противном случае я не смогу нормально проверить все работы, если буду запускать все ноутбуки и ждать обучение моделей"
      ]
    },
    {
      "cell_type": "markdown",
      "id": "00cd0432",
      "metadata": {
        "id": "00cd0432"
      },
      "source": [
        "# Пример, как загружать данные"
      ]
    },
    {
      "cell_type": "code",
      "execution_count": null,
      "id": "ebeafcab",
      "metadata": {
        "id": "ebeafcab"
      },
      "outputs": [],
      "source": [
        "# in Colab\n",
        "!pip install datasets  \n",
        "# локально придется установить эту библиотеку через консоль"
      ]
    },
    {
      "cell_type": "code",
      "execution_count": null,
      "id": "9518c759",
      "metadata": {
        "id": "9518c759"
      },
      "outputs": [],
      "source": [
        "from datasets import load_dataset\n",
        "dataset = load_dataset('glue')  # тут надо написать название вашего датасета"
      ]
    },
    {
      "cell_type": "markdown",
      "source": [
        "# 1. Загрузка датасета"
      ],
      "metadata": {
        "id": "QCL9SZ2pKt6M"
      },
      "id": "QCL9SZ2pKt6M"
    },
    {
      "cell_type": "markdown",
      "source": [
        "# 2. Описание датасета"
      ],
      "metadata": {
        "id": "wMUue4UfKz6g"
      },
      "id": "wMUue4UfKz6g"
    },
    {
      "cell_type": "markdown",
      "source": [
        "# 3. Оформление датасета как Dataset из Pytorch"
      ],
      "metadata": {
        "id": "zWdEZO40K6bF"
      },
      "id": "zWdEZO40K6bF"
    },
    {
      "cell_type": "markdown",
      "source": [
        "# 4. Оформление датасета в Dataloader"
      ],
      "metadata": {
        "id": "2KC6akluLAB1"
      },
      "id": "2KC6akluLAB1"
    },
    {
      "cell_type": "markdown",
      "source": [
        "# 5. Реализация и тренировка своей модели"
      ],
      "metadata": {
        "id": "f2CAOPlMLGmq"
      },
      "id": "f2CAOPlMLGmq"
    },
    {
      "cell_type": "markdown",
      "source": [
        "# 6. Обучение с помощью Transfer Learning"
      ],
      "metadata": {
        "id": "Dq5c7RAzLOVu"
      },
      "id": "Dq5c7RAzLOVu"
    },
    {
      "cell_type": "markdown",
      "source": [
        "# 7. Метрики качества, выводы"
      ],
      "metadata": {
        "id": "cBUWRHVyLOaC"
      },
      "id": "cBUWRHVyLOaC"
    }
  ],
  "metadata": {
    "kernelspec": {
      "display_name": "Python 3 (ipykernel)",
      "language": "python",
      "name": "python3"
    },
    "language_info": {
      "codemirror_mode": {
        "name": "ipython",
        "version": 3
      },
      "file_extension": ".py",
      "mimetype": "text/x-python",
      "name": "python",
      "nbconvert_exporter": "python",
      "pygments_lexer": "ipython3",
      "version": "3.9.13"
    },
    "colab": {
      "provenance": []
    }
  },
  "nbformat": 4,
  "nbformat_minor": 5
}